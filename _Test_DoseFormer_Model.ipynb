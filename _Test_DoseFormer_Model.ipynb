{
 "cells": [
  {
   "cell_type": "code",
   "execution_count": 2,
   "metadata": {},
   "outputs": [
    {
     "name": "stdout",
     "output_type": "stream",
     "text": [
      "physic data length for data/dynamic/2018tz.csv: 145993\n",
      "physic data length for data/dynamic/2019tz.csv: 225580\n",
      "physic data length for data/dynamic/2020tz.csv: 171067\n",
      "physic data length for data/dynamic/2018tz.csv: 145993\n",
      "physic data length for data/dynamic/2019tz.csv: 225580\n",
      "physic data length for data/dynamic/2020tz.csv: 171067\n"
     ]
    }
   ],
   "source": [
    "from utils.utils import data_v\n",
    "from Model_DoseFormer.DoseGuide import cnn_lstm_attention_gat\n",
    "import datetime\n",
    "\n",
    "allseq2t,allst,idx_train,idx_val,idx_test,y,idx_train_dynamic,idx_val_dynamic,idx_test_dynamic,idx_train_static,idx_val_static,idx_test_static = data_v(device='cuda:0')\n"
   ]
  },
  {
   "cell_type": "code",
   "execution_count": 3,
   "metadata": {},
   "outputs": [],
   "source": [
    "import torch.nn.functional as F\n",
    "import torch\n",
    "from utils.utils import accuracy, test_para"
   ]
  },
  {
   "cell_type": "code",
   "execution_count": 4,
   "metadata": {},
   "outputs": [],
   "source": [
    "tg = torch.load('Model_Save/_Train_DoseFormer_lr0.0000435/model.pkl')"
   ]
  },
  {
   "cell_type": "code",
   "execution_count": 7,
   "metadata": {},
   "outputs": [
    {
     "data": {
      "text/plain": [
       "cnn_lstm_attention_gt(\n",
       "  (cnn_lstm): cnn_lstm_attention(\n",
       "    (cnn): CNN1DEncoder(\n",
       "      (layer1): Conv1d(7, 80, kernel_size=(3,), stride=(1,), padding=(2,))\n",
       "      (layer2): Conv1d(80, 80, kernel_size=(3,), stride=(1,), padding=(2,))\n",
       "      (layer3): Conv1d(80, 80, kernel_size=(3,), stride=(1,), padding=(2,))\n",
       "      (pool): AdaptiveAvgPool1d(output_size=1)\n",
       "    )\n",
       "    (rnn): LSTM(80, 80, batch_first=True, bidirectional=True)\n",
       "    (hid): Linear(in_features=129, out_features=160, bias=True)\n",
       "    (cel): Linear(in_features=129, out_features=160, bias=True)\n",
       "  )\n",
       "  (gnn): GraphTransformer(\n",
       "    (layers): ModuleList(\n",
       "      (0): ModuleList(\n",
       "        (0): ModuleList(\n",
       "          (0): PreNorm(\n",
       "            (fn): Attention(\n",
       "              (pos_emb): RotaryEmbedding()\n",
       "              (to_q): Linear(in_features=160, out_features=512, bias=True)\n",
       "              (to_kv): Linear(in_features=160, out_features=1024, bias=True)\n",
       "              (edges_to_kv): Linear(in_features=1, out_features=512, bias=True)\n",
       "              (to_out): Linear(in_features=512, out_features=160, bias=True)\n",
       "            )\n",
       "            (norm): LayerNorm((160,), eps=1e-05, elementwise_affine=True)\n",
       "          )\n",
       "          (1): GatedResidual(\n",
       "            (proj): Sequential(\n",
       "              (0): Linear(in_features=480, out_features=1, bias=False)\n",
       "              (1): Sigmoid()\n",
       "            )\n",
       "          )\n",
       "        )\n",
       "        (1): ModuleList(\n",
       "          (0): PreNorm(\n",
       "            (fn): Sequential(\n",
       "              (0): Linear(in_features=160, out_features=640, bias=True)\n",
       "              (1): GELU()\n",
       "              (2): Linear(in_features=640, out_features=160, bias=True)\n",
       "            )\n",
       "            (norm): LayerNorm((160,), eps=1e-05, elementwise_affine=True)\n",
       "          )\n",
       "          (1): GatedResidual(\n",
       "            (proj): Sequential(\n",
       "              (0): Linear(in_features=480, out_features=1, bias=False)\n",
       "              (1): Sigmoid()\n",
       "            )\n",
       "          )\n",
       "        )\n",
       "      )\n",
       "      (1): ModuleList(\n",
       "        (0): ModuleList(\n",
       "          (0): PreNorm(\n",
       "            (fn): Attention(\n",
       "              (pos_emb): RotaryEmbedding()\n",
       "              (to_q): Linear(in_features=160, out_features=512, bias=True)\n",
       "              (to_kv): Linear(in_features=160, out_features=1024, bias=True)\n",
       "              (edges_to_kv): Linear(in_features=1, out_features=512, bias=True)\n",
       "              (to_out): Linear(in_features=512, out_features=160, bias=True)\n",
       "            )\n",
       "            (norm): LayerNorm((160,), eps=1e-05, elementwise_affine=True)\n",
       "          )\n",
       "          (1): GatedResidual(\n",
       "            (proj): Sequential(\n",
       "              (0): Linear(in_features=480, out_features=1, bias=False)\n",
       "              (1): Sigmoid()\n",
       "            )\n",
       "          )\n",
       "        )\n",
       "        (1): ModuleList(\n",
       "          (0): PreNorm(\n",
       "            (fn): Sequential(\n",
       "              (0): Linear(in_features=160, out_features=640, bias=True)\n",
       "              (1): GELU()\n",
       "              (2): Linear(in_features=640, out_features=160, bias=True)\n",
       "            )\n",
       "            (norm): LayerNorm((160,), eps=1e-05, elementwise_affine=True)\n",
       "          )\n",
       "          (1): GatedResidual(\n",
       "            (proj): Sequential(\n",
       "              (0): Linear(in_features=480, out_features=1, bias=False)\n",
       "              (1): Sigmoid()\n",
       "            )\n",
       "          )\n",
       "        )\n",
       "      )\n",
       "    )\n",
       "    (norm_edges): Identity()\n",
       "  )\n",
       "  (fc1): Linear(in_features=160, out_features=2, bias=True)\n",
       ")"
      ]
     },
     "execution_count": 7,
     "metadata": {},
     "output_type": "execute_result"
    }
   ],
   "source": [
    "tg.float()\n",
    "tg.cuda(device=0)\n",
    "tg.eval()"
   ]
  },
  {
   "cell_type": "code",
   "execution_count": 8,
   "metadata": {},
   "outputs": [
    {
     "data": {
      "text/plain": [
       "(tensor(1., device='cuda:0', dtype=torch.float64), [100, 307, 0, 0, 1.0, 1.0])"
      ]
     },
     "execution_count": 8,
     "metadata": {},
     "output_type": "execute_result"
    }
   ],
   "source": [
    "idx = idx_train\n",
    "idx_dynamic = idx_train_dynamic\n",
    "idx_static = idx_train_static\n",
    "out ,adj= tg(allseq2t[idx_dynamic],allst[idx_static])\n",
    "\n",
    "loss_function = F.nll_loss\n",
    "loss = loss_function(out[idx],y[idx])\n",
    "\n",
    "acc = accuracy(out[idx],y[idx])\n",
    "accp , lr = test_para(out,y,idx)\n",
    "accp , lr"
   ]
  },
  {
   "cell_type": "code",
   "execution_count": 9,
   "metadata": {},
   "outputs": [
    {
     "data": {
      "text/plain": [
       "(tensor(0.9608, device='cuda:0', dtype=torch.float64),\n",
       " [7, 42, 2, 0, 1.0, 0.9545454545454546])"
      ]
     },
     "execution_count": 9,
     "metadata": {},
     "output_type": "execute_result"
    }
   ],
   "source": [
    "idx = idx_val\n",
    "idx_dynamic = idx_val_dynamic\n",
    "idx_static = idx_val_static\n",
    "out ,adj= tg(allseq2t[idx_dynamic],allst[idx_static])\n",
    "\n",
    "loss_function = F.nll_loss\n",
    "loss = loss_function(out[idx],y[idx])\n",
    "\n",
    "acc = accuracy(out[idx],y[idx])\n",
    "accp , lr = test_para(out,y,idx)\n",
    "accp , lr"
   ]
  },
  {
   "cell_type": "code",
   "execution_count": 10,
   "metadata": {},
   "outputs": [
    {
     "data": {
      "text/plain": [
       "(tensor(0.9216, device='cuda:0', dtype=torch.float64),\n",
       " [5, 42, 4, 0, 1.0, 0.9130434782608695])"
      ]
     },
     "execution_count": 10,
     "metadata": {},
     "output_type": "execute_result"
    }
   ],
   "source": [
    "idx = idx_test\n",
    "idx_dynamic = idx_test_dynamic\n",
    "idx_static = idx_test_static\n",
    "out ,adj= tg(allseq2t[idx_dynamic],allst[idx_static])\n",
    "\n",
    "loss_function = F.nll_loss\n",
    "loss = loss_function(out[idx],y[idx])\n",
    "\n",
    "acc = accuracy(out[idx],y[idx])\n",
    "accp , lr = test_para(out,y,idx)\n",
    "accp , lr"
   ]
  }
 ],
 "metadata": {
  "kernelspec": {
   "display_name": "Python 3.7.11 ('pytorch')",
   "language": "python",
   "name": "python3"
  },
  "language_info": {
   "codemirror_mode": {
    "name": "ipython",
    "version": 3
   },
   "file_extension": ".py",
   "mimetype": "text/x-python",
   "name": "python",
   "nbconvert_exporter": "python",
   "pygments_lexer": "ipython3",
   "version": "3.7.11"
  },
  "orig_nbformat": 4,
  "vscode": {
   "interpreter": {
    "hash": "88e86e5864233b2c8fca25975979e07a0e46bfed21f89392a1b6b89d19b6e892"
   }
  }
 },
 "nbformat": 4,
 "nbformat_minor": 2
}
